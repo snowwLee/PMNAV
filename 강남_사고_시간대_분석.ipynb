{
  "nbformat": 4,
  "nbformat_minor": 0,
  "metadata": {
    "colab": {
      "provenance": [],
      "authorship_tag": "ABX9TyMXxbUlazy5BcMqhRJkrGpz",
      "include_colab_link": true
    },
    "kernelspec": {
      "name": "python3",
      "display_name": "Python 3"
    },
    "language_info": {
      "name": "python"
    }
  },
  "cells": [
    {
      "cell_type": "markdown",
      "metadata": {
        "id": "view-in-github",
        "colab_type": "text"
      },
      "source": [
        "<a href=\"https://colab.research.google.com/github/snowwLee/PMNAV/blob/main/%EA%B0%95%EB%82%A8_%EC%82%AC%EA%B3%A0_%EC%8B%9C%EA%B0%84%EB%8C%80_%EB%B6%84%EC%84%9D.ipynb\" target=\"_parent\"><img src=\"https://colab.research.google.com/assets/colab-badge.svg\" alt=\"Open In Colab\"/></a>"
      ]
    },
    {
      "cell_type": "code",
      "execution_count": null,
      "metadata": {
        "colab": {
          "base_uri": "https://localhost:8080/"
        },
        "id": "SOaTdX8foXQ3",
        "outputId": "107e10f2-9aa3-461d-d695-73ae9ede0deb"
      },
      "outputs": [
        {
          "output_type": "stream",
          "name": "stdout",
          "text": [
            "Drive already mounted at /content/drive; to attempt to forcibly remount, call drive.mount(\"/content/drive\", force_remount=True).\n"
          ]
        }
      ],
      "source": [
        "from google.colab import drive\n",
        "drive.mount('/content/drive')"
      ]
    },
    {
      "cell_type": "code",
      "source": [
        "import pandas as pd\n",
        "import numpy as np\n",
        "import matplotlib.pyplot as plt\n",
        "from scipy.stats import chisquare"
      ],
      "metadata": {
        "id": "2LD2HBHYpH0d"
      },
      "execution_count": null,
      "outputs": []
    },
    {
      "cell_type": "code",
      "source": [
        "data = pd.read_csv('/content/drive/MyDrive/KT에이블스쿨/빅프로젝트/강남_21-22_data.csv',encoding='CP949')"
      ],
      "metadata": {
        "id": "XcQQ8INapLlZ"
      },
      "execution_count": null,
      "outputs": []
    },
    {
      "cell_type": "code",
      "source": [
        "data.head()"
      ],
      "metadata": {
        "colab": {
          "base_uri": "https://localhost:8080/",
          "height": 340
        },
        "id": "Qgk8kUk6pgPp",
        "outputId": "f5e22360-dc58-4a67-856c-d8fd45c27777"
      },
      "execution_count": null,
      "outputs": [
        {
          "output_type": "execute_result",
          "data": {
            "text/plain": [
              "               사고번호              사고일시   요일            시군구  사고내용  사망자수  중상자수  \\\n",
              "0  2021011700100198  2021년 1월 17일 18시  일요일  서울특별시 강남구 논현동  경상사고     0     0   \n",
              "1  2021012100100094  2021년 1월 21일 09시  목요일  서울특별시 강남구 역삼동  경상사고     0     0   \n",
              "2  2021012400100234  2021년 1월 24일 18시  일요일  서울특별시 강남구 논현동  경상사고     0     0   \n",
              "3  2021012400100324  2021년 1월 24일 21시  일요일  서울특별시 강남구 역삼동  경상사고     0     0   \n",
              "4  2021020200100378   2021년 2월 2일 19시  화요일  서울특별시 강남구 역삼동  경상사고     0     0   \n",
              "\n",
              "   경상자수  부상신고자수          사고유형  ...     가해운전자 차종 가해운전자 성별 가해운전자 연령 가해운전자 상해정도  \\\n",
              "0     1       0  차대사람 - 보도통행중  ...  개인형이동수단(PM)        남      34세       상해없음   \n",
              "1     1       0     차대사람 - 기타  ...  개인형이동수단(PM)        여      30세       상해없음   \n",
              "2     1       0      차대차 - 기타  ...  개인형이동수단(PM)        남      31세         경상   \n",
              "3     1       0      차대차 - 기타  ...  개인형이동수단(PM)        남      19세       상해없음   \n",
              "4     1       0      차대차 - 기타  ...  개인형이동수단(PM)        남      27세       상해없음   \n",
              "\n",
              "  피해운전자 차종 피해운전자 성별 피해운전자 연령 피해운전자 상해정도         위도          경도  \n",
              "0      보행자        여      48세         경상  37.501325  127.025499  \n",
              "1      보행자        여      35세         경상  37.498837  127.029269  \n",
              "2       승용        남      25세       상해없음  37.507348  127.026522  \n",
              "3       이륜        여      52세         경상  37.500989  127.051770  \n",
              "4       이륜        남      28세         경상  37.505565  127.037543  \n",
              "\n",
              "[5 rows x 24 columns]"
            ],
            "text/html": [
              "\n",
              "  <div id=\"df-24a6f0c4-45dd-4a4d-b66d-01f7e4634ec2\" class=\"colab-df-container\">\n",
              "    <div>\n",
              "<style scoped>\n",
              "    .dataframe tbody tr th:only-of-type {\n",
              "        vertical-align: middle;\n",
              "    }\n",
              "\n",
              "    .dataframe tbody tr th {\n",
              "        vertical-align: top;\n",
              "    }\n",
              "\n",
              "    .dataframe thead th {\n",
              "        text-align: right;\n",
              "    }\n",
              "</style>\n",
              "<table border=\"1\" class=\"dataframe\">\n",
              "  <thead>\n",
              "    <tr style=\"text-align: right;\">\n",
              "      <th></th>\n",
              "      <th>사고번호</th>\n",
              "      <th>사고일시</th>\n",
              "      <th>요일</th>\n",
              "      <th>시군구</th>\n",
              "      <th>사고내용</th>\n",
              "      <th>사망자수</th>\n",
              "      <th>중상자수</th>\n",
              "      <th>경상자수</th>\n",
              "      <th>부상신고자수</th>\n",
              "      <th>사고유형</th>\n",
              "      <th>...</th>\n",
              "      <th>가해운전자 차종</th>\n",
              "      <th>가해운전자 성별</th>\n",
              "      <th>가해운전자 연령</th>\n",
              "      <th>가해운전자 상해정도</th>\n",
              "      <th>피해운전자 차종</th>\n",
              "      <th>피해운전자 성별</th>\n",
              "      <th>피해운전자 연령</th>\n",
              "      <th>피해운전자 상해정도</th>\n",
              "      <th>위도</th>\n",
              "      <th>경도</th>\n",
              "    </tr>\n",
              "  </thead>\n",
              "  <tbody>\n",
              "    <tr>\n",
              "      <th>0</th>\n",
              "      <td>2021011700100198</td>\n",
              "      <td>2021년 1월 17일 18시</td>\n",
              "      <td>일요일</td>\n",
              "      <td>서울특별시 강남구 논현동</td>\n",
              "      <td>경상사고</td>\n",
              "      <td>0</td>\n",
              "      <td>0</td>\n",
              "      <td>1</td>\n",
              "      <td>0</td>\n",
              "      <td>차대사람 - 보도통행중</td>\n",
              "      <td>...</td>\n",
              "      <td>개인형이동수단(PM)</td>\n",
              "      <td>남</td>\n",
              "      <td>34세</td>\n",
              "      <td>상해없음</td>\n",
              "      <td>보행자</td>\n",
              "      <td>여</td>\n",
              "      <td>48세</td>\n",
              "      <td>경상</td>\n",
              "      <td>37.501325</td>\n",
              "      <td>127.025499</td>\n",
              "    </tr>\n",
              "    <tr>\n",
              "      <th>1</th>\n",
              "      <td>2021012100100094</td>\n",
              "      <td>2021년 1월 21일 09시</td>\n",
              "      <td>목요일</td>\n",
              "      <td>서울특별시 강남구 역삼동</td>\n",
              "      <td>경상사고</td>\n",
              "      <td>0</td>\n",
              "      <td>0</td>\n",
              "      <td>1</td>\n",
              "      <td>0</td>\n",
              "      <td>차대사람 - 기타</td>\n",
              "      <td>...</td>\n",
              "      <td>개인형이동수단(PM)</td>\n",
              "      <td>여</td>\n",
              "      <td>30세</td>\n",
              "      <td>상해없음</td>\n",
              "      <td>보행자</td>\n",
              "      <td>여</td>\n",
              "      <td>35세</td>\n",
              "      <td>경상</td>\n",
              "      <td>37.498837</td>\n",
              "      <td>127.029269</td>\n",
              "    </tr>\n",
              "    <tr>\n",
              "      <th>2</th>\n",
              "      <td>2021012400100234</td>\n",
              "      <td>2021년 1월 24일 18시</td>\n",
              "      <td>일요일</td>\n",
              "      <td>서울특별시 강남구 논현동</td>\n",
              "      <td>경상사고</td>\n",
              "      <td>0</td>\n",
              "      <td>0</td>\n",
              "      <td>1</td>\n",
              "      <td>0</td>\n",
              "      <td>차대차 - 기타</td>\n",
              "      <td>...</td>\n",
              "      <td>개인형이동수단(PM)</td>\n",
              "      <td>남</td>\n",
              "      <td>31세</td>\n",
              "      <td>경상</td>\n",
              "      <td>승용</td>\n",
              "      <td>남</td>\n",
              "      <td>25세</td>\n",
              "      <td>상해없음</td>\n",
              "      <td>37.507348</td>\n",
              "      <td>127.026522</td>\n",
              "    </tr>\n",
              "    <tr>\n",
              "      <th>3</th>\n",
              "      <td>2021012400100324</td>\n",
              "      <td>2021년 1월 24일 21시</td>\n",
              "      <td>일요일</td>\n",
              "      <td>서울특별시 강남구 역삼동</td>\n",
              "      <td>경상사고</td>\n",
              "      <td>0</td>\n",
              "      <td>0</td>\n",
              "      <td>1</td>\n",
              "      <td>0</td>\n",
              "      <td>차대차 - 기타</td>\n",
              "      <td>...</td>\n",
              "      <td>개인형이동수단(PM)</td>\n",
              "      <td>남</td>\n",
              "      <td>19세</td>\n",
              "      <td>상해없음</td>\n",
              "      <td>이륜</td>\n",
              "      <td>여</td>\n",
              "      <td>52세</td>\n",
              "      <td>경상</td>\n",
              "      <td>37.500989</td>\n",
              "      <td>127.051770</td>\n",
              "    </tr>\n",
              "    <tr>\n",
              "      <th>4</th>\n",
              "      <td>2021020200100378</td>\n",
              "      <td>2021년 2월 2일 19시</td>\n",
              "      <td>화요일</td>\n",
              "      <td>서울특별시 강남구 역삼동</td>\n",
              "      <td>경상사고</td>\n",
              "      <td>0</td>\n",
              "      <td>0</td>\n",
              "      <td>1</td>\n",
              "      <td>0</td>\n",
              "      <td>차대차 - 기타</td>\n",
              "      <td>...</td>\n",
              "      <td>개인형이동수단(PM)</td>\n",
              "      <td>남</td>\n",
              "      <td>27세</td>\n",
              "      <td>상해없음</td>\n",
              "      <td>이륜</td>\n",
              "      <td>남</td>\n",
              "      <td>28세</td>\n",
              "      <td>경상</td>\n",
              "      <td>37.505565</td>\n",
              "      <td>127.037543</td>\n",
              "    </tr>\n",
              "  </tbody>\n",
              "</table>\n",
              "<p>5 rows × 24 columns</p>\n",
              "</div>\n",
              "    <div class=\"colab-df-buttons\">\n",
              "\n",
              "  <div class=\"colab-df-container\">\n",
              "    <button class=\"colab-df-convert\" onclick=\"convertToInteractive('df-24a6f0c4-45dd-4a4d-b66d-01f7e4634ec2')\"\n",
              "            title=\"Convert this dataframe to an interactive table.\"\n",
              "            style=\"display:none;\">\n",
              "\n",
              "  <svg xmlns=\"http://www.w3.org/2000/svg\" height=\"24px\" viewBox=\"0 -960 960 960\">\n",
              "    <path d=\"M120-120v-720h720v720H120Zm60-500h600v-160H180v160Zm220 220h160v-160H400v160Zm0 220h160v-160H400v160ZM180-400h160v-160H180v160Zm440 0h160v-160H620v160ZM180-180h160v-160H180v160Zm440 0h160v-160H620v160Z\"/>\n",
              "  </svg>\n",
              "    </button>\n",
              "\n",
              "  <style>\n",
              "    .colab-df-container {\n",
              "      display:flex;\n",
              "      gap: 12px;\n",
              "    }\n",
              "\n",
              "    .colab-df-convert {\n",
              "      background-color: #E8F0FE;\n",
              "      border: none;\n",
              "      border-radius: 50%;\n",
              "      cursor: pointer;\n",
              "      display: none;\n",
              "      fill: #1967D2;\n",
              "      height: 32px;\n",
              "      padding: 0 0 0 0;\n",
              "      width: 32px;\n",
              "    }\n",
              "\n",
              "    .colab-df-convert:hover {\n",
              "      background-color: #E2EBFA;\n",
              "      box-shadow: 0px 1px 2px rgba(60, 64, 67, 0.3), 0px 1px 3px 1px rgba(60, 64, 67, 0.15);\n",
              "      fill: #174EA6;\n",
              "    }\n",
              "\n",
              "    .colab-df-buttons div {\n",
              "      margin-bottom: 4px;\n",
              "    }\n",
              "\n",
              "    [theme=dark] .colab-df-convert {\n",
              "      background-color: #3B4455;\n",
              "      fill: #D2E3FC;\n",
              "    }\n",
              "\n",
              "    [theme=dark] .colab-df-convert:hover {\n",
              "      background-color: #434B5C;\n",
              "      box-shadow: 0px 1px 3px 1px rgba(0, 0, 0, 0.15);\n",
              "      filter: drop-shadow(0px 1px 2px rgba(0, 0, 0, 0.3));\n",
              "      fill: #FFFFFF;\n",
              "    }\n",
              "  </style>\n",
              "\n",
              "    <script>\n",
              "      const buttonEl =\n",
              "        document.querySelector('#df-24a6f0c4-45dd-4a4d-b66d-01f7e4634ec2 button.colab-df-convert');\n",
              "      buttonEl.style.display =\n",
              "        google.colab.kernel.accessAllowed ? 'block' : 'none';\n",
              "\n",
              "      async function convertToInteractive(key) {\n",
              "        const element = document.querySelector('#df-24a6f0c4-45dd-4a4d-b66d-01f7e4634ec2');\n",
              "        const dataTable =\n",
              "          await google.colab.kernel.invokeFunction('convertToInteractive',\n",
              "                                                    [key], {});\n",
              "        if (!dataTable) return;\n",
              "\n",
              "        const docLinkHtml = 'Like what you see? Visit the ' +\n",
              "          '<a target=\"_blank\" href=https://colab.research.google.com/notebooks/data_table.ipynb>data table notebook</a>'\n",
              "          + ' to learn more about interactive tables.';\n",
              "        element.innerHTML = '';\n",
              "        dataTable['output_type'] = 'display_data';\n",
              "        await google.colab.output.renderOutput(dataTable, element);\n",
              "        const docLink = document.createElement('div');\n",
              "        docLink.innerHTML = docLinkHtml;\n",
              "        element.appendChild(docLink);\n",
              "      }\n",
              "    </script>\n",
              "  </div>\n",
              "\n",
              "\n",
              "<div id=\"df-74c3681f-662f-4979-9198-098b792f1e2f\">\n",
              "  <button class=\"colab-df-quickchart\" onclick=\"quickchart('df-74c3681f-662f-4979-9198-098b792f1e2f')\"\n",
              "            title=\"Suggest charts\"\n",
              "            style=\"display:none;\">\n",
              "\n",
              "<svg xmlns=\"http://www.w3.org/2000/svg\" height=\"24px\"viewBox=\"0 0 24 24\"\n",
              "     width=\"24px\">\n",
              "    <g>\n",
              "        <path d=\"M19 3H5c-1.1 0-2 .9-2 2v14c0 1.1.9 2 2 2h14c1.1 0 2-.9 2-2V5c0-1.1-.9-2-2-2zM9 17H7v-7h2v7zm4 0h-2V7h2v10zm4 0h-2v-4h2v4z\"/>\n",
              "    </g>\n",
              "</svg>\n",
              "  </button>\n",
              "\n",
              "<style>\n",
              "  .colab-df-quickchart {\n",
              "      --bg-color: #E8F0FE;\n",
              "      --fill-color: #1967D2;\n",
              "      --hover-bg-color: #E2EBFA;\n",
              "      --hover-fill-color: #174EA6;\n",
              "      --disabled-fill-color: #AAA;\n",
              "      --disabled-bg-color: #DDD;\n",
              "  }\n",
              "\n",
              "  [theme=dark] .colab-df-quickchart {\n",
              "      --bg-color: #3B4455;\n",
              "      --fill-color: #D2E3FC;\n",
              "      --hover-bg-color: #434B5C;\n",
              "      --hover-fill-color: #FFFFFF;\n",
              "      --disabled-bg-color: #3B4455;\n",
              "      --disabled-fill-color: #666;\n",
              "  }\n",
              "\n",
              "  .colab-df-quickchart {\n",
              "    background-color: var(--bg-color);\n",
              "    border: none;\n",
              "    border-radius: 50%;\n",
              "    cursor: pointer;\n",
              "    display: none;\n",
              "    fill: var(--fill-color);\n",
              "    height: 32px;\n",
              "    padding: 0;\n",
              "    width: 32px;\n",
              "  }\n",
              "\n",
              "  .colab-df-quickchart:hover {\n",
              "    background-color: var(--hover-bg-color);\n",
              "    box-shadow: 0 1px 2px rgba(60, 64, 67, 0.3), 0 1px 3px 1px rgba(60, 64, 67, 0.15);\n",
              "    fill: var(--button-hover-fill-color);\n",
              "  }\n",
              "\n",
              "  .colab-df-quickchart-complete:disabled,\n",
              "  .colab-df-quickchart-complete:disabled:hover {\n",
              "    background-color: var(--disabled-bg-color);\n",
              "    fill: var(--disabled-fill-color);\n",
              "    box-shadow: none;\n",
              "  }\n",
              "\n",
              "  .colab-df-spinner {\n",
              "    border: 2px solid var(--fill-color);\n",
              "    border-color: transparent;\n",
              "    border-bottom-color: var(--fill-color);\n",
              "    animation:\n",
              "      spin 1s steps(1) infinite;\n",
              "  }\n",
              "\n",
              "  @keyframes spin {\n",
              "    0% {\n",
              "      border-color: transparent;\n",
              "      border-bottom-color: var(--fill-color);\n",
              "      border-left-color: var(--fill-color);\n",
              "    }\n",
              "    20% {\n",
              "      border-color: transparent;\n",
              "      border-left-color: var(--fill-color);\n",
              "      border-top-color: var(--fill-color);\n",
              "    }\n",
              "    30% {\n",
              "      border-color: transparent;\n",
              "      border-left-color: var(--fill-color);\n",
              "      border-top-color: var(--fill-color);\n",
              "      border-right-color: var(--fill-color);\n",
              "    }\n",
              "    40% {\n",
              "      border-color: transparent;\n",
              "      border-right-color: var(--fill-color);\n",
              "      border-top-color: var(--fill-color);\n",
              "    }\n",
              "    60% {\n",
              "      border-color: transparent;\n",
              "      border-right-color: var(--fill-color);\n",
              "    }\n",
              "    80% {\n",
              "      border-color: transparent;\n",
              "      border-right-color: var(--fill-color);\n",
              "      border-bottom-color: var(--fill-color);\n",
              "    }\n",
              "    90% {\n",
              "      border-color: transparent;\n",
              "      border-bottom-color: var(--fill-color);\n",
              "    }\n",
              "  }\n",
              "</style>\n",
              "\n",
              "  <script>\n",
              "    async function quickchart(key) {\n",
              "      const quickchartButtonEl =\n",
              "        document.querySelector('#' + key + ' button');\n",
              "      quickchartButtonEl.disabled = true;  // To prevent multiple clicks.\n",
              "      quickchartButtonEl.classList.add('colab-df-spinner');\n",
              "      try {\n",
              "        const charts = await google.colab.kernel.invokeFunction(\n",
              "            'suggestCharts', [key], {});\n",
              "      } catch (error) {\n",
              "        console.error('Error during call to suggestCharts:', error);\n",
              "      }\n",
              "      quickchartButtonEl.classList.remove('colab-df-spinner');\n",
              "      quickchartButtonEl.classList.add('colab-df-quickchart-complete');\n",
              "    }\n",
              "    (() => {\n",
              "      let quickchartButtonEl =\n",
              "        document.querySelector('#df-74c3681f-662f-4979-9198-098b792f1e2f button');\n",
              "      quickchartButtonEl.style.display =\n",
              "        google.colab.kernel.accessAllowed ? 'block' : 'none';\n",
              "    })();\n",
              "  </script>\n",
              "</div>\n",
              "\n",
              "    </div>\n",
              "  </div>\n"
            ]
          },
          "metadata": {},
          "execution_count": 128
        }
      ]
    },
    {
      "cell_type": "code",
      "source": [
        "# 사고 시간만 추출하기\n",
        "data['사고시간대'] = data['사고일시'].str.extract(r'(\\d+)시').astype(int)"
      ],
      "metadata": {
        "id": "WqwQNqSup4fr"
      },
      "execution_count": null,
      "outputs": []
    },
    {
      "cell_type": "code",
      "source": [
        "time_vc = data['사고시간대'].value_counts()\n",
        "time_vc"
      ],
      "metadata": {
        "colab": {
          "base_uri": "https://localhost:8080/"
        },
        "id": "U5hvxy6IqVIB",
        "outputId": "b80a2026-8acd-421f-f17d-22de0d644de2"
      },
      "execution_count": null,
      "outputs": [
        {
          "output_type": "execute_result",
          "data": {
            "text/plain": [
              "18    17\n",
              "22    14\n",
              "19    12\n",
              "9     11\n",
              "17    10\n",
              "21     9\n",
              "23     9\n",
              "2      8\n",
              "14     8\n",
              "0      8\n",
              "8      7\n",
              "10     7\n",
              "20     6\n",
              "15     6\n",
              "12     5\n",
              "1      5\n",
              "3      5\n",
              "13     5\n",
              "16     4\n",
              "11     3\n",
              "7      2\n",
              "5      2\n",
              "6      1\n",
              "4      1\n",
              "Name: 사고시간대, dtype: int64"
            ]
          },
          "metadata": {},
          "execution_count": 130
        }
      ]
    },
    {
      "cell_type": "code",
      "source": [
        "time_vc_data = pd.Series(time_vc).sort_index()\n",
        "time_vc_data"
      ],
      "metadata": {
        "colab": {
          "base_uri": "https://localhost:8080/"
        },
        "id": "DSpKaCpqqqH7",
        "outputId": "6041fc47-f6c5-47b3-cfed-2e202fa4b249"
      },
      "execution_count": null,
      "outputs": [
        {
          "output_type": "execute_result",
          "data": {
            "text/plain": [
              "0      8\n",
              "1      5\n",
              "2      8\n",
              "3      5\n",
              "4      1\n",
              "5      2\n",
              "6      1\n",
              "7      2\n",
              "8      7\n",
              "9     11\n",
              "10     7\n",
              "11     3\n",
              "12     5\n",
              "13     5\n",
              "14     8\n",
              "15     6\n",
              "16     4\n",
              "17    10\n",
              "18    17\n",
              "19    12\n",
              "20     6\n",
              "21     9\n",
              "22    14\n",
              "23     9\n",
              "Name: 사고시간대, dtype: int64"
            ]
          },
          "metadata": {},
          "execution_count": 131
        }
      ]
    },
    {
      "cell_type": "code",
      "source": [
        "peak_hour = time_vc_data.idxmax()\n",
        "peak_hour"
      ],
      "metadata": {
        "colab": {
          "base_uri": "https://localhost:8080/"
        },
        "id": "OLZUJyDDrc9y",
        "outputId": "525e5acb-5979-4706-d81d-910d111c0c14"
      },
      "execution_count": null,
      "outputs": [
        {
          "output_type": "execute_result",
          "data": {
            "text/plain": [
              "18"
            ]
          },
          "metadata": {},
          "execution_count": 132
        }
      ]
    },
    {
      "cell_type": "code",
      "source": [
        "#막대그래프 확인\n",
        "plt.figure(figsize=(12,6))\n",
        "plt.bar(time_vc_data.index, time_vc_data.values, color='skyblue')\n",
        "plt.xticks(range(0, 24)) # X축을 0시부터 23시까지 표시\n",
        "plt.grid(axis='y', linestyle='--')\n",
        "plt.show()"
      ],
      "metadata": {
        "colab": {
          "base_uri": "https://localhost:8080/",
          "height": 522
        },
        "id": "iV3wKSXQvHba",
        "outputId": "8ce7c9dd-6169-4657-988e-8c7d66db9552"
      },
      "execution_count": null,
      "outputs": [
        {
          "output_type": "display_data",
          "data": {
            "text/plain": [
              "<Figure size 1200x600 with 1 Axes>"
            ],
            "image/png": "[encoded data removed]"
          },
          "metadata": {}
        }
      ]
    },
    {
      "cell_type": "code",
      "source": [
        "plt.figure(figsize=(12,6))\n",
        "plt.plot(time_vc_data.index, time_vc_data.values, marker='o', linestyle='-')\n",
        "plt.xticks(range(0, 24)) # X축을 0시부터 23시까지 표시\n",
        "plt.grid(True)\n",
        "plt.show()"
      ],
      "metadata": {
        "colab": {
          "base_uri": "https://localhost:8080/",
          "height": 522
        },
        "id": "vcr3-PlwvNJe",
        "outputId": "6efb3e07-df11-47bb-8b82-a8d11583d0d8"
      },
      "execution_count": null,
      "outputs": [
        {
          "output_type": "display_data",
          "data": {
            "text/plain": [
              "<Figure size 1200x600 with 1 Axes>"
            ],
            "image/png": "[encoded data removed]"
          },
          "metadata": {}
        }
      ]
    },
    {
      "cell_type": "markdown",
      "source": [
        "## 3시간 씩 묶기"
      ],
      "metadata": {
        "id": "ta8Xfh_V9dT6"
      }
    },
    {
      "cell_type": "code",
      "source": [
        "#시간대를 그룹별로 묶어서 찾기(3시간)\n",
        "\n",
        "data['시간대그룹3'] = data['사고시간대'] // 3"
      ],
      "metadata": {
        "id": "EXYOx5Epv2se"
      },
      "execution_count": null,
      "outputs": []
    },
    {
      "cell_type": "code",
      "source": [
        "time3_grouped_vc = data['시간대그룹3'].value_counts().sort_index()\n",
        "time3_grouped_vc"
      ],
      "metadata": {
        "colab": {
          "base_uri": "https://localhost:8080/"
        },
        "id": "nQWplO1xv8tx",
        "outputId": "d4b14fde-aac0-4956-f766-cffbec584a78"
      },
      "execution_count": null,
      "outputs": [
        {
          "output_type": "execute_result",
          "data": {
            "text/plain": [
              "0    21\n",
              "1     8\n",
              "2    10\n",
              "3    21\n",
              "4    18\n",
              "5    20\n",
              "6    35\n",
              "7    32\n",
              "Name: 시간대그룹, dtype: int64"
            ]
          },
          "metadata": {},
          "execution_count": 136
        }
      ]
    },
    {
      "cell_type": "code",
      "source": [
        "time3_grouped_vc_data = pd.Series(time3_grouped_vc).sort_index()\n",
        "time3_grouped_vc_data"
      ],
      "metadata": {
        "colab": {
          "base_uri": "https://localhost:8080/"
        },
        "id": "dbt06NcRwbAz",
        "outputId": "0fff6735-9ce9-45fb-8630-849adbedd17b"
      },
      "execution_count": null,
      "outputs": [
        {
          "output_type": "execute_result",
          "data": {
            "text/plain": [
              "0    21\n",
              "1     8\n",
              "2    10\n",
              "3    21\n",
              "4    18\n",
              "5    20\n",
              "6    35\n",
              "7    32\n",
              "Name: 시간대그룹, dtype: int64"
            ]
          },
          "metadata": {},
          "execution_count": 137
        }
      ]
    },
    {
      "cell_type": "code",
      "source": [
        "peak_3hour_grouped = time3_grouped_vc_data.idxmax()\n",
        "peak_3hour_grouped"
      ],
      "metadata": {
        "colab": {
          "base_uri": "https://localhost:8080/"
        },
        "id": "eUYyTaukwmAX",
        "outputId": "0a55d11d-7720-4d27-edd3-4c8a9088966d"
      },
      "execution_count": null,
      "outputs": [
        {
          "output_type": "execute_result",
          "data": {
            "text/plain": [
              "6"
            ]
          },
          "metadata": {},
          "execution_count": 138
        }
      ]
    },
    {
      "cell_type": "code",
      "source": [
        "#막대그래프 확인\n",
        "plt.figure(figsize=(12,6))\n",
        "plt.bar(time3_grouped_vc_data.index, time3_grouped_vc_data.values, color='skyblue')\n",
        "xticks_labels = ['0-2', '3-5', '6-8', '9-11', '12-14', '15-17', '18-20', '21-23']\n",
        "plt.xticks(range(0, 8), xticks_labels) # X축을 0시부터 23시까지 표시\n",
        "plt.grid(axis='y', linestyle='--')\n",
        "plt.show()"
      ],
      "metadata": {
        "colab": {
          "base_uri": "https://localhost:8080/",
          "height": 522
        },
        "id": "W8pJLWJ4wv21",
        "outputId": "f51e9156-fc63-44d2-e778-8f915f68213e"
      },
      "execution_count": null,
      "outputs": [
        {
          "output_type": "display_data",
          "data": {
            "text/plain": [
              "<Figure size 1200x600 with 1 Axes>"
            ],
            "image/png": "[encoded data removed]"
          },
          "metadata": {}
        }
      ]
    },
    {
      "cell_type": "code",
      "source": [
        "#카이제곱검정\n",
        "\n",
        "# 각 시간대별 사고 발생 횟수\n",
        "time_vc = time_vc.values\n",
        "\n",
        "# 모든 시간대에서 사고가 균등하게 발생한다고 가정했을 때의 기대 빈도구하기\n",
        "\n",
        "# total_hit = 관측된 모든 사고의 총 횟수\n",
        "total_hit = sum(time_vc)\n",
        "\n",
        "# expected =  각 시간대별로 기대되는 사고 횟수(모든 시간대에서 사고가 균등하게 발생한다고 가정)\n",
        "expected = [total_hit / len(time_vc)] * len(time_vc)\n",
        "\n",
        "# 카이제곱 검정 수행\n",
        "chi2_stat, p_value = chisquare(time_vc, f_exp=expected)\n",
        "\n",
        "print(\"Chi2 Statistic:\", chi2_stat)\n",
        "print(\"P-value:\", p_value)\n",
        "\n",
        "if p_value <= 0.01:\n",
        "    print(\"귀무 가설 기각: 시간대별 사고 발생 빈도에는 통계적으로 유의미한 차이가 있습니다.\")\n",
        "else:\n",
        "    print(\"귀무 가설 유지: 시간대별 사고 발생 빈도에 통계적으로 유의미한 차이가 없습니다.\")"
      ],
      "metadata": {
        "colab": {
          "base_uri": "https://localhost:8080/"
        },
        "id": "F8H2zd20ynzv",
        "outputId": "fa9441a2-9d23-46ba-f0e2-72d93982c92a"
      },
      "execution_count": null,
      "outputs": [
        {
          "output_type": "stream",
          "name": "stdout",
          "text": [
            "Chi2 Statistic: 54.49090909090909\n",
            "P-value: 0.00022921520348965696\n",
            "귀무 가설 기각: 시간대별 사고 발생 빈도에는 통계적으로 유의미한 차이가 있습니다.\n"
          ]
        }
      ]
    },
    {
      "cell_type": "code",
      "source": [
        "#카이제곱검정(3시간씩 묶었을 때)\n",
        "\n",
        "time3_grouped_c = time3_grouped_vc.values\n",
        "\n",
        "total_hit = sum(time3_grouped_c)\n",
        "expected = [total_hit / len(time3_grouped_c)] * len(time3_grouped_c)\n",
        "\n",
        "chi2_stat, p_value = chisquare(time3_grouped_c, f_exp=expected)\n",
        "\n",
        "print(\"Chi2 Statistic:\", chi2_stat)\n",
        "print(\"P-value:\", p_value)\n",
        "\n",
        "if p_value <= 0.01:\n",
        "    print(\"귀무 가설 기각: 시간대별 사고 발생 빈도에는 통계적으로 유의미한 차이가 있습니다.\")\n",
        "else:\n",
        "    print(\"귀무 가설 유지: 시간대별 사고 발생 빈도에 통계적으로 유의미한 차이가 없습니다.\")"
      ],
      "metadata": {
        "colab": {
          "base_uri": "https://localhost:8080/"
        },
        "id": "lmyd87ilyHhw",
        "outputId": "cf6a2063-591c-4f2f-d50e-c8425f00e275"
      },
      "execution_count": null,
      "outputs": [
        {
          "output_type": "stream",
          "name": "stdout",
          "text": [
            "Chi2 Statistic: 29.86060606060606\n",
            "P-value: 0.00010071568502306085\n",
            "귀무 가설 기각: 시간대별 사고 발생 빈도에는 통계적으로 유의미한 차이가 있습니다.\n"
          ]
        }
      ]
    }
  ]
}